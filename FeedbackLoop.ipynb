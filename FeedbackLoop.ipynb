{
 "cells": [
  {
   "cell_type": "code",
   "execution_count": 15,
   "id": "94657669-58fb-4c7d-9ee2-9bbc88f058a6",
   "metadata": {},
   "outputs": [],
   "source": [
    "from openai import OpenAI\n",
    "import os\n",
    "from IPython.display import Markdown, display\n",
    "import traceback\n",
    "import io\n",
    "import os\n",
    "from contextlib import redirect_stdout, redirect_stderr\n",
    "from enum import Enum"
   ]
  },
  {
   "cell_type": "code",
   "execution_count": 8,
   "id": "f342e789-e815-4afb-940e-a0fcc4eb1fcb",
   "metadata": {},
   "outputs": [],
   "source": [
    "client = OpenAI(\n",
    "    base_url = \"https://openai.vocareum.com/v1\",\n",
    "    api_key=\"voc-1142391097160736424292768839a5d4b7a92.77641675\")\n",
    "\n",
    "MODEL = \"gpt-4o-mini\"\n",
    "\n",
    "def get_completion(messages):\n",
    "    try:\n",
    "        response = client.chat.completions.create(\n",
    "            model = MODEL,\n",
    "            messages = messages,\n",
    "            temperature = 0.7\n",
    "        )\n",
    "        return response.choices[0].message.content\n",
    "    except Exception as err:\n",
    "        return f\"error occrued: {err}\"\n"
   ]
  },
  {
   "cell_type": "code",
   "execution_count": 9,
   "id": "ab5bd8f1-cf47-4d94-9a74-19169431c92c",
   "metadata": {},
   "outputs": [
    {
     "name": "stdout",
     "output_type": "stream",
     "text": [
      "```python\n",
      "def process_data(numbers, mode='average'):\n",
      "    if mode == 'sum':\n",
      "        return sum(num for num in numbers if isinstance(num, (int, float)))\n",
      "    elif mode == 'average':\n",
      "        valid_numbers = [num for num in numbers if isinstance(num, (int, float))]\n",
      "        return sum(valid_numbers) / len(valid_numbers) if valid_numbers else 0\n",
      "```\n"
     ]
    }
   ],
   "source": [
    "initial_prompt = f\"\"\"\n",
    "You are an expert Python developer. Please write a Python function based on the following requirements:\n",
    "\n",
    "We will create a Python function called `process_data` that analyzes numerical data with the following (possibly incomplete) set of requirements:\n",
    "\n",
    "1. The function should accept a list of numbers and an optional parameter 'mode' that can be 'sum' or 'average' (default should be 'average').\n",
    "2. If mode is 'sum', return the sum of all numbers.\n",
    "3. If mode is 'average', return the average (mean) of all numbers.\n",
    "\n",
    "Example:\n",
    "```python\n",
    "process_data([1, 2, 3, 4, 5], mode='average')  # Should return 3.0\n",
    "process_data([1, 2, 'a', 3], mode='sum')  # Should return 6\n",
    "\n",
    "Write only the function surrounded by ```python and ``` without any additional explanations or examples.\n",
    "\n",
    "Example:\n",
    "\n",
    "```python\n",
    "def function_name(arguments):\n",
    "    # function body\n",
    "```\n",
    "\"\"\"\n",
    "\n",
    "messages = [{\"role\": \"user\", \"content\": initial_prompt}]\n",
    "initial_response = get_completion(messages)\n",
    "print(initial_response)"
   ]
  },
  {
   "cell_type": "code",
   "execution_count": 10,
   "id": "a76b09e6-e3d3-49c4-bcc0-47bd099c40c0",
   "metadata": {},
   "outputs": [
    {
     "name": "stdout",
     "output_type": "stream",
     "text": [
      "def process_data(numbers, mode='average'):\n",
      "    if mode == 'sum':\n",
      "        return sum(num for num in numbers if isinstance(num, (int, float)))\n",
      "    elif mode == 'average':\n",
      "        valid_numbers = [num for num in numbers if isinstance(num, (int, float))]\n",
      "        return sum(valid_numbers) / len(valid_numbers) if valid_numbers else 0\n"
     ]
    }
   ],
   "source": [
    "def extract_code(code):\n",
    "    lines = code.split(\"\\n\")\n",
    "    start = lines.index(\"```python\") + 1\n",
    "    end = lines.index(\"```\", start)\n",
    "    return \"\\n\".join(lines[start:end])\n",
    "initial_code = extract_code(initial_response)\n",
    "print(initial_code)"
   ]
  },
  {
   "cell_type": "code",
   "execution_count": 11,
   "id": "18dea562-8be9-4b79-a94d-cb70faf206aa",
   "metadata": {},
   "outputs": [],
   "source": [
    "test_cases = [\n",
    "    {\"inputs\": ([1, 2, 3, 4, 5], \"sum\"), \"expected\": 15},\n",
    "    {\"inputs\": ([1, 2, 3, 4, 5], \"average\"), \"expected\": 3.0},\n",
    "    {\"inputs\": ([11, 12, 13, 14, 15], \"sum\"), \"expected\": 65},\n",
    "    {\"inputs\": ([11, 12, 13, 14, 15], \"average\"), \"expected\": 13.0},\n",
    "    {\"inputs\": ([1.1, 2.2, 3.3, 4.4, 5.5], \"sum\"), \"expected\": 16.5},\n",
    "    {\"inputs\": ([1.1, 2.2, 3.3, 4.4, 5.5], \"average\"), \"expected\": 3.3},\n",
    "    {\"inputs\": ([-1, -2, -3, -4, -5], \"sum\"), \"expected\": -15},\n",
    "    {\"inputs\": ([-1, -2, -3, -4, -5], \"average\"), \"expected\": -3.0},\n",
    "]\n",
    "\n",
    "def execute_code(code, test_cases):\n",
    "    \"\"\"\n",
    "    Executes Python code and returns the results of test cases.\n",
    "    Args:\n",
    "        code: String containing Python code\n",
    "        test_cases: List of dictionaries with inputs and expected outputs\n",
    "    Returns:\n",
    "        Dictionary containing execution results and test outcomes\n",
    "    \"\"\"\n",
    "    results = {\"execution_error\": None, \"test_results\": [], \"passed\": 0, \"failed\": 0}\n",
    "\n",
    "    # Create a namespace for execution\n",
    "    namespace = {}\n",
    "\n",
    "    # Capture stdout and stderr\n",
    "    output_buffer = io.StringIO()\n",
    "\n",
    "    try:\n",
    "        with redirect_stdout(output_buffer), redirect_stderr(output_buffer):\n",
    "            exec(code, namespace)\n",
    "\n",
    "        # Run test cases\n",
    "        for i, test in enumerate(test_cases):\n",
    "            inputs = test[\"inputs\"]\n",
    "            expected = test[\"expected\"]\n",
    "\n",
    "            # Execute the function with test inputs\n",
    "            try:\n",
    "                if isinstance(inputs, dict):\n",
    "                    actual = namespace[\"process_data\"](**inputs)\n",
    "                else:\n",
    "                    actual = namespace[\"process_data\"](*inputs)\n",
    "\n",
    "                passed = actual == expected\n",
    "\n",
    "                if passed:\n",
    "                    results[\"passed\"] += 1\n",
    "                else:\n",
    "                    results[\"failed\"] += 1\n",
    "\n",
    "                results[\"test_results\"].append(\n",
    "                    {\n",
    "                        \"test_id\": i + 1,\n",
    "                        \"inputs\": inputs,\n",
    "                        \"expected\": expected,\n",
    "                        \"actual\": actual,\n",
    "                        \"passed\": passed,\n",
    "                    }\n",
    "                )\n",
    "            except Exception as e:\n",
    "                # If the error is the expected type, mark as passed\n",
    "                passed = isinstance(expected, type) and isinstance(e, expected)\n",
    "                results[\"test_results\"].append(\n",
    "                    {\n",
    "                        \"test_id\": i + 1,\n",
    "                        \"inputs\": inputs,\n",
    "                        \"expected\": expected,\n",
    "                        \"error\": str(e),\n",
    "                        \"passed\": passed,\n",
    "                    }\n",
    "                )\n",
    "                if passed:\n",
    "                    results[\"passed\"] += 1\n",
    "                else:\n",
    "                    results[\"failed\"] += 1\n",
    "\n",
    "    except Exception as e:\n",
    "        results[\"execution_error\"] = {\n",
    "            \"error_type\": type(e).__name__,\n",
    "            \"error_message\": str(e),\n",
    "            \"traceback\": traceback.format_exc(),\n",
    "        }\n",
    "\n",
    "    results[\"stdout\"] = output_buffer.getvalue()\n",
    "    return results"
   ]
  },
  {
   "cell_type": "code",
   "execution_count": 16,
   "id": "a05905f7-a2d7-4342-96ee-db36871e725d",
   "metadata": {},
   "outputs": [
    {
     "name": "stdout",
     "output_type": "stream",
     "text": [
      "{'execution_error': None, 'test_results': [{'test_id': 1, 'inputs': ([1, 2, 3, 4, 5], 'sum'), 'expected': 15, 'actual': 15, 'passed': True}, {'test_id': 2, 'inputs': ([1, 2, 3, 4, 5], 'average'), 'expected': 3.0, 'actual': 3.0, 'passed': True}, {'test_id': 3, 'inputs': ([11, 12, 13, 14, 15], 'sum'), 'expected': 65, 'actual': 65, 'passed': True}, {'test_id': 4, 'inputs': ([11, 12, 13, 14, 15], 'average'), 'expected': 13.0, 'actual': 13.0, 'passed': True}, {'test_id': 5, 'inputs': ([1.1, 2.2, 3.3, 4.4, 5.5], 'sum'), 'expected': 16.5, 'actual': 16.5, 'passed': True}, {'test_id': 6, 'inputs': ([1.1, 2.2, 3.3, 4.4, 5.5], 'average'), 'expected': 3.3, 'actual': 3.3, 'passed': True}, {'test_id': 7, 'inputs': ([-1, -2, -3, -4, -5], 'sum'), 'expected': -15, 'actual': -15, 'passed': True}, {'test_id': 8, 'inputs': ([-1, -2, -3, -4, -5], 'average'), 'expected': -3.0, 'actual': -3.0, 'passed': True}], 'passed': 8, 'failed': 0, 'stdout': ''}\n"
     ]
    }
   ],
   "source": [
    "initial_results = execute_code(initial_code, test_cases)\n",
    "print(initial_results)"
   ]
  },
  {
   "cell_type": "code",
   "execution_count": 17,
   "id": "d3a191a3-df38-47f6-a738-5a4a957e6381",
   "metadata": {},
   "outputs": [
    {
     "data": {
      "text/plain": [
       "\"def process_data(numbers, mode='average'):\\n    valid_numbers = [num for num in numbers if isinstance(num, (int, float))]\\n    if mode == 'sum':\\n        return sum(valid_numbers)\\n    elif mode == 'average':\\n        return sum(valid_numbers) / len(valid_numbers) if valid_numbers else 0\""
      ]
     },
     "execution_count": 17,
     "metadata": {},
     "output_type": "execute_result"
    }
   ],
   "source": [
    "feedback_prompt = f\"\"\"\n",
    "You are an expert Python developer. You wrote a function based on these requirements:\n",
    "\n",
    "We will create a Python function called `process_data` that analyzes numerical data with the following (possibly incomplete) set of requirements:\n",
    "\n",
    "1. The function should accept a list of numbers and an optional parameter 'mode' that can be 'sum' or 'average' (default should be 'average').\n",
    "2. If mode is 'sum', return the sum of all numbers.\n",
    "3. If mode is 'average', return the average (mean) of all numbers.\n",
    "\n",
    "Example:\n",
    "```python\n",
    "process_data([1, 2, 3, 4, 5], mode='average')  # Should return 3.0\n",
    "process_data([1, 2, 'a', 3], mode='sum')  # Should return 6\n",
    "\n",
    "Write only the function surrounded by ```python and ``` without any additional explanations or examples.\n",
    "\n",
    "Example:\n",
    "\n",
    "```python\n",
    "def function_name(arguments):\n",
    "    # function body\n",
    "```\n",
    "\n",
    "Here is your current implementation:\n",
    "```python\n",
    "{initial_code}\n",
    "```\n",
    "I've tested your code and here are the results:\n",
    "{initial_results}\n",
    "\n",
    "Please improve your code to fix any issues and make sure it passes all test cases.\n",
    "Write only the improved function without any explanation.\n",
    "\"\"\"\n",
    "\n",
    "messages = [{\"role\": \"user\", \"content\": feedback_prompt}]\n",
    "\n",
    "# Get improved code\n",
    "improved_response = get_completion(messages)\n",
    "\n",
    "# Extract the improved code\n",
    "improved_code = extract_code(improved_response)\n",
    "improved_code"
   ]
  },
  {
   "cell_type": "code",
   "execution_count": 18,
   "id": "73fda5cf-04dd-4c12-9c3b-cf238b4fa619",
   "metadata": {},
   "outputs": [
    {
     "name": "stdout",
     "output_type": "stream",
     "text": [
      "{'execution_error': None, 'test_results': [{'test_id': 1, 'inputs': ([1, 2, 3, 4, 5], 'sum'), 'expected': 15, 'actual': 15, 'passed': True}, {'test_id': 2, 'inputs': ([1, 2, 3, 4, 5], 'average'), 'expected': 3.0, 'actual': 3.0, 'passed': True}, {'test_id': 3, 'inputs': ([11, 12, 13, 14, 15], 'sum'), 'expected': 65, 'actual': 65, 'passed': True}, {'test_id': 4, 'inputs': ([11, 12, 13, 14, 15], 'average'), 'expected': 13.0, 'actual': 13.0, 'passed': True}, {'test_id': 5, 'inputs': ([1.1, 2.2, 3.3, 4.4, 5.5], 'sum'), 'expected': 16.5, 'actual': 16.5, 'passed': True}, {'test_id': 6, 'inputs': ([1.1, 2.2, 3.3, 4.4, 5.5], 'average'), 'expected': 3.3, 'actual': 3.3, 'passed': True}, {'test_id': 7, 'inputs': ([-1, -2, -3, -4, -5], 'sum'), 'expected': -15, 'actual': -15, 'passed': True}, {'test_id': 8, 'inputs': ([-1, -2, -3, -4, -5], 'average'), 'expected': -3.0, 'actual': -3.0, 'passed': True}], 'passed': 8, 'failed': 0, 'stdout': ''}\n"
     ]
    }
   ],
   "source": [
    "improved_results = execute_code(improved_code, test_cases)\n",
    "print(improved_results)"
   ]
  },
  {
   "cell_type": "code",
   "execution_count": 19,
   "id": "4ee004e1-877c-4dbe-aa37-f27e9121ac35",
   "metadata": {},
   "outputs": [
    {
     "name": "stdout",
     "output_type": "stream",
     "text": [
      "def process_data(numbers, mode='average'):\n",
      "    if mode == 'sum':\n",
      "        return sum(num for num in numbers if isinstance(num, (int, float)))\n",
      "    elif mode == 'average':\n",
      "        valid_numbers = [num for num in numbers if isinstance(num, (int, float))]\n",
      "        return sum(valid_numbers) / len(valid_numbers) if valid_numbers else 0\n",
      "---------\n",
      "def process_data(numbers, mode='average'):\n",
      "    valid_numbers = [num for num in numbers if isinstance(num, (int, float))]\n",
      "    if mode == 'sum':\n",
      "        return sum(valid_numbers)\n",
      "    elif mode == 'average':\n",
      "        return sum(valid_numbers) / len(valid_numbers) if valid_numbers else 0\n"
     ]
    }
   ],
   "source": [
    "print(initial_code)\n",
    "print('---------')\n",
    "print(improved_code)"
   ]
  },
  {
   "cell_type": "code",
   "execution_count": null,
   "id": "e6d1a317-d5c1-4720-81bd-f8958fe95fdf",
   "metadata": {},
   "outputs": [],
   "source": []
  }
 ],
 "metadata": {
  "kernelspec": {
   "display_name": "Python 3 (ipykernel)",
   "language": "python",
   "name": "python3"
  },
  "language_info": {
   "codemirror_mode": {
    "name": "ipython",
    "version": 3
   },
   "file_extension": ".py",
   "mimetype": "text/x-python",
   "name": "python",
   "nbconvert_exporter": "python",
   "pygments_lexer": "ipython3",
   "version": "3.10.18"
  }
 },
 "nbformat": 4,
 "nbformat_minor": 5
}
