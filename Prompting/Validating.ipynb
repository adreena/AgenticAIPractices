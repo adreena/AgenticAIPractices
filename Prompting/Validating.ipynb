{
 "cells": [
  {
   "cell_type": "code",
   "execution_count": 3,
   "id": "5d509c14-bd72-43b6-a094-8bc136fe7214",
   "metadata": {},
   "outputs": [],
   "source": [
    "from openai import OpenAI\n",
    "import os\n",
    "from enum import Enum\n",
    "import json\n",
    "from pydantic import BaseModel, Field  # For structured data validation\n",
    "from typing import List, Literal, Optional\n",
    "\n",
    "\n",
    "client = OpenAI(\n",
    "    base_url = \"https://openai.vocareum.com/v1\",\n",
    "    api_key=\"voc-1142391097160736424292768839a5d4b7a92.77641675\")"
   ]
  },
  {
   "cell_type": "code",
   "execution_count": 2,
   "id": "42f8651f-5407-43ae-b596-442fd3b56cbd",
   "metadata": {},
   "outputs": [],
   "source": []
  },
  {
   "cell_type": "code",
   "execution_count": 4,
   "id": "7e8b7526-5021-45b8-bee7-65e9c7f89bc2",
   "metadata": {},
   "outputs": [],
   "source": [
    "# Define sample FNOL texts\n",
    "# TODO: [Optional] Add more sample FNOL texts to test various scenarios\n",
    "\n",
    "sample_fnols = [\n",
    "    \"\"\"\n",
    "    Claim ID: C001\n",
    "    Customer: John Smith\n",
    "    Vehicle: 2018 Toyota Camry\n",
    "    Incident: While driving on the highway, a rock hit my windshield and caused a small chip\n",
    "    about the size of a quarter. No other damage was observed.\n",
    "    \"\"\",\n",
    "    \"\"\"\n",
    "    Claim ID: C002\n",
    "    Customer: Sarah Johnson\n",
    "    Vehicle: 2020 Honda Civic\n",
    "    Incident: I was parked at the grocery store and returned to find someone had hit my car and\n",
    "    dented the rear bumper and taillight. The taillight is broken and the bumper has a large dent.\n",
    "    \"\"\",\n",
    "    \"\"\"\n",
    "    Claim ID: C003\n",
    "    Customer: Michael Rodriguez\n",
    "    Vehicle: 2022 Ford F-150\n",
    "    Incident: I was involved in a serious collision at an intersection. The front of my truck is\n",
    "    severely damaged, including the hood, bumper, radiator, and engine compartment. The airbags\n",
    "    deployed and the vehicle is not drivable.\n",
    "    \"\"\",\n",
    "    \"\"\"\n",
    "    Claim ID: C004\n",
    "    Customer: Emma Williams\n",
    "    Vehicle: 2019 Subaru Outback\n",
    "    Incident: My car was damaged in a hailstorm. There are multiple dents on the hood, roof, and\n",
    "    trunk. The side mirrors were also damaged and one window has a small crack.\n",
    "    \"\"\",\n",
    "    \"\"\"\n",
    "    Claim ID: C005\n",
    "    Customer: David Brown\n",
    "    Vehicle: 2021 Tesla Model 3\n",
    "    Incident: Someone keyed my car in the parking lot. There are deep scratches along both doors\n",
    "    on the driver's side.\n",
    "    \"\"\",\n",
    "]"
   ]
  },
  {
   "cell_type": "code",
   "execution_count": 18,
   "id": "d86a1d5a-e302-4777-a018-1c8c813dec12",
   "metadata": {},
   "outputs": [],
   "source": [
    "# validation template\n",
    "class ClaimInformation(BaseModel):\n",
    "    claim_id: str = Field(..., min_length=2, max_length=10)\n",
    "    name: str = Field(..., min_length=2, max_length=100)\n",
    "    vehicle: str = Field(..., min_length=2, max_length=100)\n",
    "    loss_desc: str = Field(..., min_length=10, max_length=500)\n",
    "    damage_area: List[\n",
    "        Literal[\n",
    "            \"windshield\",\n",
    "            \"front\",\n",
    "            \"rear\",\n",
    "            \"side\",\n",
    "            \"roof\",\n",
    "            \"hood\",\n",
    "            \"door\",\n",
    "            \"bumper\",\n",
    "            \"fender\",\n",
    "            \"quarter panel\",\n",
    "            \"trunk\",\n",
    "            \"glass\",\n",
    "        ]\n",
    "    ] = Field(..., min_items=1)\n",
    "\n",
    "def validate_etxracted_info(claim_info_json: str) -> ClaimInformation:\n",
    "    try:\n",
    "        # Parse the JSON string\n",
    "        claim_info_dict = json.loads(claim_info_json)\n",
    "        # Validate with Pydantic model\n",
    "        validated_info = ClaimInformation(**claim_info_dict)\n",
    "        return validated_info\n",
    "    except Exception as e:\n",
    "        raise ValueError(f\"Gate 1 validation failed: {str(e)}\")"
   ]
  },
  {
   "cell_type": "code",
   "execution_count": 14,
   "id": "8577142a-49db-4b95-8461-fd3bf292260c",
   "metadata": {},
   "outputs": [],
   "source": [
    "info_extraction_system_prompt = \"\"\"\n",
    "    You are an auto insurance claim processing assistant. Your task is to extract key information from First Notice of Loss (FNOL) reports.\n",
    "    \n",
    "    Format your response as a valid JSON object with the following keys:\n",
    "    - claim_id (str): The claim ID\n",
    "    - name (str): The customer's full name\n",
    "    - vehicle (str): The vehicle make, model, and year\n",
    "    - loss_desc (str): A concise description of the incident\n",
    "    - damage_area (list[str]): A list of damaged areas on the vehicle (at least one of:\n",
    "        - windshield\n",
    "        - front\n",
    "        - rear\n",
    "        - side\n",
    "        - roof\n",
    "        - hood\n",
    "        - door\n",
    "        - bumper\n",
    "        - fender\n",
    "        - quarter panel\n",
    "        - trunk\n",
    "        - glass\n",
    "    \n",
    "    For damage_area, only use items from the list above.\n",
    "    \n",
    "    Only respond with the JSON object, nothing else.\n",
    "\"\"\""
   ]
  },
  {
   "cell_type": "code",
   "execution_count": 15,
   "id": "012a02b5-954f-4a97-bbfb-ba6188e70d97",
   "metadata": {},
   "outputs": [],
   "source": [
    "\n",
    "def extract_claim_info(fnol_text):\n",
    "    messages = [\n",
    "        {\"role\": \"system\", \"content\": info_extraction_system_prompt},\n",
    "        {\"role\": \"user\", \"content\": fnol_text},\n",
    "    ]\n",
    "\n",
    "    response = get_completion(messages=messages)\n",
    "\n",
    "    try:\n",
    "        validated_info = validate_etxracted_info(response)\n",
    "        return validated_info\n",
    "    except ValueError as e:\n",
    "        print(f\"Gate 1 failed: {e}\")\n",
    "        return None"
   ]
  },
  {
   "cell_type": "code",
   "execution_count": 19,
   "id": "1029d571-6de6-4433-9b36-7d6b8100f4eb",
   "metadata": {},
   "outputs": [
    {
     "data": {
      "text/plain": [
       "ClaimInformation(claim_id='C002', name='Sarah Johnson', vehicle='2020 Honda Civic', loss_desc='Someone hit my car while it was parked, damaging the rear bumper and taillight.', damage_area=['rear', 'bumper', 'glass'])"
      ]
     },
     "execution_count": 19,
     "metadata": {},
     "output_type": "execute_result"
    }
   ],
   "source": [
    "extract_claim_info(sample_fnols[1])"
   ]
  },
  {
   "cell_type": "code",
   "execution_count": 22,
   "id": "c59fc76a-b942-43fe-a613-3e3c6aeec3db",
   "metadata": {},
   "outputs": [],
   "source": [
    "\n",
    "class SeverityAssessment(BaseModel):\n",
    "    severity: Literal[\"Minor\", \"Moderate\", \"Major\"]\n",
    "    est_cost: float = Field(..., gt=0)\n",
    "\n",
    "\n",
    "severity_assessment_system_prompt = \"\"\"\n",
    "    You are an auto insurance damage assessor. Your task is to evaluate the severity of vehicle damage and estimate repair costs.\n",
    "    \n",
    "    Apply these carrier heuristics:\n",
    "    - Minor damage: Small dents, scratches, glass chips (cost range: $100-$1,000)\n",
    "    - Moderate damage: Single panel damage, bumper replacement, door damage (cost range: $1,000-$5,000)\n",
    "    - Major damage: Structural damage, multiple panel replacement, engine/drivetrain issues, total loss candidates (cost range: $5,000-$50,000)\n",
    "    \n",
    "    Based on the claim information provided, determine:\n",
    "    1. Severity level (Minor, Moderate, or Major)\n",
    "    2. Estimated repair cost (in USD)\n",
    "    \n",
    "    Format your response as a valid JSON object with the following keys:\n",
    "    - severity: One of \"Minor\", \"Moderate\", or \"Major\"\n",
    "    - est_cost: Numeric estimate of repair costs (e.g., 750.00)\n",
    "    \n",
    "    Only respond with the JSON object, nothing else.\n",
    "\"\"\""
   ]
  },
  {
   "cell_type": "code",
   "execution_count": 25,
   "id": "8b9f5d9c-f775-4913-96d9-48d2d8ea09f0",
   "metadata": {},
   "outputs": [],
   "source": [
    "def cost_range_ok(severity_json: str) -> SeverityAssessment:\n",
    "    try:\n",
    "        # Parse the JSON string\n",
    "        severity_dict = json.loads(severity_json)\n",
    "        validated_severity = SeverityAssessment(**severity_dict)\n",
    "\n",
    "        # Check cost range based on severity\n",
    "        if validated_severity.severity == \"Minor\" and (\n",
    "            validated_severity.est_cost < 100 or validated_severity.est_cost > 1000\n",
    "        ):\n",
    "            raise ValueError(\n",
    "                f\"Minor damage should cost between $100-$1000, got ${validated_severity.est_cost}\"\n",
    "            )\n",
    "        elif validated_severity.severity == \"Moderate\" and (\n",
    "            validated_severity.est_cost < 1000 or validated_severity.est_cost > 5000\n",
    "        ):\n",
    "            raise ValueError(\n",
    "                f\"Moderate damage should cost between $1000-$5000, got ${validated_severity.est_cost}\"\n",
    "            )\n",
    "        elif validated_severity.severity == \"Major\" and (\n",
    "            validated_severity.est_cost < 5000 or validated_severity.est_cost > 50000\n",
    "        ):\n",
    "            raise ValueError(\n",
    "                f\"Major damage should cost between $5000-$50000, got ${validated_severity.est_cost}\"\n",
    "            )\n",
    "\n",
    "        return validated_severity\n",
    "    except Exception as e:\n",
    "        raise ValueError(f\"Gate 2 validation failed: {str(e)}\")\n",
    "\n",
    "\n",
    "def assess_severity(claim_info: ClaimInformation) -> Optional[SeverityAssessment]:\n",
    "    # Convert Pydantic model to JSON string\n",
    "    claim_info_json = claim_info.model_dump_json()\n",
    "\n",
    "    messages = [\n",
    "        {\"role\": \"system\", \"content\": severity_assessment_system_prompt},\n",
    "        {\"role\": \"user\", \"content\": claim_info_json},\n",
    "    ]\n",
    "\n",
    "    response = get_completion(messages=messages)\n",
    "\n",
    "    # Gate check: validate the severity assessment\n",
    "    try:\n",
    "        validated_severity = cost_range_ok(response)\n",
    "        return validated_severity\n",
    "    except ValueError as e:\n",
    "        print(f\"Gate 2 failed: {e}. Response: {response}\")\n",
    "        return None"
   ]
  },
  {
   "cell_type": "code",
   "execution_count": 26,
   "id": "9d4128db-3792-452d-8a9d-aeca0f396df7",
   "metadata": {},
   "outputs": [],
   "source": [
    "claim = extract_claim_info(sample_fnols[1])\n",
    "severity_assessment = assess_severity(claim)"
   ]
  },
  {
   "cell_type": "code",
   "execution_count": 27,
   "id": "de10fe7f-2ac6-445c-ac57-274dd8e622dd",
   "metadata": {},
   "outputs": [
    {
     "name": "stdout",
     "output_type": "stream",
     "text": [
      "claim_id='C002' name='Sarah Johnson' vehicle='2020 Honda Civic' loss_desc='Hit while parked at the grocery store, causing damage to the rear bumper and taillight.' damage_area=['rear', 'bumper', 'glass']\n",
      "severity='Moderate' est_cost=2500.0\n"
     ]
    }
   ],
   "source": [
    "print(claim)\n",
    "print(severity_assessment)"
   ]
  }
 ],
 "metadata": {
  "kernelspec": {
   "display_name": "Python 3 (ipykernel)",
   "language": "python",
   "name": "python3"
  },
  "language_info": {
   "codemirror_mode": {
    "name": "ipython",
    "version": 3
   },
   "file_extension": ".py",
   "mimetype": "text/x-python",
   "name": "python",
   "nbconvert_exporter": "python",
   "pygments_lexer": "ipython3",
   "version": "3.10.18"
  }
 },
 "nbformat": 4,
 "nbformat_minor": 5
}
