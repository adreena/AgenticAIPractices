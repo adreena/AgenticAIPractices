{
 "cells": [
  {
   "cell_type": "code",
   "execution_count": 14,
   "id": "1f3d99c1-7eb0-41e3-8f97-06f110875ebe",
   "metadata": {},
   "outputs": [],
   "source": []
  },
  {
   "cell_type": "code",
   "execution_count": 11,
   "id": "e4c0ba85-8637-4681-8ae9-95cf01aec822",
   "metadata": {},
   "outputs": [],
   "source": [
    "MODEL = \"gpt-4o-mini\"\n",
    "\n",
    "def get_completion(system_prompt, user_prompt):\n",
    "    messages = [\n",
    "        {\"role\": \"system\", \"content\": system_prompt},\n",
    "        {\"role\": \"user\", \"content\": user_prompt}\n",
    "    ]\n",
    "    try:\n",
    "        response = client.chat.completions.create(\n",
    "            model = MODEL,\n",
    "            messages = messages,\n",
    "            temperature = 0.7\n",
    "        )\n",
    "        return response.choices[0].message.content\n",
    "    except Exception as err:\n",
    "        return f\"error occrued: {err}\"\n",
    "\n",
    "def display_responses(*args):\n",
    "    \"\"\"Helper function to display responses as Markdown, horizontally.\"\"\"\n",
    "    markdown_string = \"<table><tr>\"\n",
    "    # Headers\n",
    "    for arg in args:\n",
    "        markdown_string += f\"<th>System Prompt:<br />{arg['system_prompt']}<br /><br />\"\n",
    "        markdown_string += f\"User Prompt:<br />{arg['user_prompt']}</th>\"\n",
    "    markdown_string += \"</tr>\"\n",
    "    # Rows\n",
    "    markdown_string += \"<tr>\"\n",
    "    for arg in args:\n",
    "        markdown_string += f\"<td>Response:<br />{arg['response']}</td>\"\n",
    "    markdown_string += \"</tr></table>\"\n",
    "    display(Markdown(markdown_string))"
   ]
  },
  {
   "cell_type": "code",
   "execution_count": 12,
   "id": "bc9fa0c9-a6ad-41f7-beb3-22d1e72bd877",
   "metadata": {},
   "outputs": [
    {
     "data": {
      "text/markdown": [
       "<table><tr><th>System Prompt:<br />You are a professional assistant<br /><br />User Prompt:<br />Give me a simple plan to organize my schedule</th></tr><tr><td>Response:<br />Sure! Here’s a simple plan to help you organize your schedule effectively:\n",
       "\n",
       "### Step 1: Define Your Goals\n",
       "- **Short-term Goals:** Identify tasks you want to accomplish in the next week or month.\n",
       "- **Long-term Goals:** Consider what you want to achieve in the upcoming months or year.\n",
       "\n",
       "### Step 2: Choose Your Tools\n",
       "- **Digital Calendar (Google Calendar, Outlook):** Use for appointments and reminders.\n",
       "- **Task Management Apps (Todoist, Trello):** For tracking tasks and projects.\n",
       "- **Physical Planner:** If you prefer writing things down, use a planner or notebook.\n",
       "\n",
       "### Step 3: Create a Weekly Overview\n",
       "1. **Set Aside Time:** Spend 15-30 minutes at the start or end of each week.\n",
       "2. **Block Out Fixed Commitments:** Add work hours, classes, and important appointments.\n",
       "3. **Allocate Time for Goals:** Schedule specific times for working on your short-term and long-term goals.\n",
       "\n",
       "### Step 4: Daily Planning\n",
       "1. **Morning Routine:** Spend 5-10 minutes each morning reviewing your day’s schedule.\n",
       "2. **Prioritize Tasks:** Identify 2-3 key tasks to focus on each day.\n",
       "3. **Time Blocking:** Allocate specific time blocks for each task, including breaks.\n",
       "\n",
       "### Step 5: Review and Adjust\n",
       "- **Weekly Review:** Reflect on what you accomplished and what didn’t work. Adjust your upcoming week based on this reflection.\n",
       "- **Daily Adjustments:** Be flexible. If something urgent arises, reschedule less critical tasks.\n",
       "\n",
       "### Step 6: Stay Consistent\n",
       "- **Set Reminders:** Use alarms or notifications for important tasks and appointments.\n",
       "- **Limit Distractions:** Identify what distracts you and create strategies to minimize those distractions.\n",
       "\n",
       "### Step 7: Self-Care\n",
       "- **Include Downtime:** Schedule breaks and leisure activities to maintain balance.\n",
       "- **Exercise and Nutrition:** Allocate time for physical activity and meal preparation.\n",
       "\n",
       "### Example Weekly Schedule Layout\n",
       "- **Monday:**\n",
       "  - 9 AM - 11 AM: Work on Project A\n",
       "  - 11 AM - 12 PM: Meeting with Team\n",
       "  - 1 PM - 2 PM: Lunch\n",
       "  - 2 PM - 4 PM: Respond to emails\n",
       "\n",
       "- **Tuesday:**\n",
       "  - 9 AM - 10 AM: Gym\n",
       "  - 10:30 AM - 12 PM: Work on Project B\n",
       "  - 1 PM - 2 PM: Lunch\n",
       "  - 2 PM - 5 PM: Client calls\n",
       "\n",
       "Repeat for the rest of the week, adjusting as necessary.\n",
       "\n",
       "By following this plan, you should be able to create a structured yet flexible schedule that helps you stay organized and productive.</td></tr></table>"
      ],
      "text/plain": [
       "<IPython.core.display.Markdown object>"
      ]
     },
     "metadata": {},
     "output_type": "display_data"
    }
   ],
   "source": [
    "base_system_prompt = \"You are a professional assistant\"\n",
    "user_prompt = \"Give me a simple plan to organize my schedule\"\n",
    "\n",
    "baseline_response = get_completion(base_system_prompt, user_prompt)\n",
    "display_responses({\n",
    "        \"system_prompt\": base_system_prompt,\n",
    "        \"user_prompt\": user_prompt,\n",
    "        \"response\": baseline_response,\n",
    "    })\n"
   ]
  },
  {
   "cell_type": "code",
   "execution_count": 13,
   "id": "1e12fe1b-1517-4b68-a990-acc5d5ce70ff",
   "metadata": {},
   "outputs": [
    {
     "data": {
      "text/markdown": [
       "<table><tr><th>System Prompt:<br />\n",
       "you are a best-selling writer.\n",
       "\n",
       "In general:\n",
       "- Always explain your overall reasoning before providing the answer to user's question.\n",
       "- If user asked for advice, qlways provide a conclusion with a list of action items\n",
       "- Do not end the conversation with a final question after providng the list of action items\n",
       "<br /><br />User Prompt:<br />\n",
       "Generate a list of 4 ideas for an article about benefits of meditation that people withh read and benefit from. The audience is technical and scientists.\n",
       "</th></tr><tr><td>Response:<br />When crafting an article tailored for a technical and scientific audience, it’s essential to ground the benefits of meditation in research, data, and practical applications. This audience values empirical evidence and logical reasoning, so presenting meditation not only as a practice for mental well-being but also as a tool for enhancing cognitive and physical performance will resonate well. Here are four article ideas that emphasize these aspects:\n",
       "\n",
       "1. **The Neuroscience of Meditation: How Mindfulness Alters Brain Structure and Function**  \n",
       "   Explore studies that demonstrate the neurological changes associated with regular meditation practice, such as increased grey matter density in areas related to emotional regulation and cognitive function. Discuss how these changes can enhance problem-solving abilities and creativity, which are crucial in technical fields.\n",
       "\n",
       "2. **Boosting Productivity and Focus: The Science Behind Meditation Techniques for Professionals**  \n",
       "   Investigate how different meditation techniques (e.g., mindfulness, transcendental meditation) can improve concentration and reduce distractions in a work environment. Cite research on productivity metrics and the impact of meditation on work performance, particularly in high-stress technical roles.\n",
       "\n",
       "3. **Stress Reduction and Resilience: The Role of Meditation in Enhancing Mental Health Among Scientists**  \n",
       "   Address the high levels of stress and burnout often experienced in research and technical professions. Present evidence that demonstrates how meditation helps mitigate these issues, fostering resilience among scientists and technical professionals. Include practical tips on integrating meditation into a busy work schedule.\n",
       "\n",
       "4. **Meditation and Creativity: Unlocking Innovative Thinking Through Mindfulness Practices**  \n",
       "   Discuss how meditation can enhance creative thinking and problem-solving skills, which are essential in scientific research and technical innovation. Present studies that link meditation with increased divergent thinking—the ability to generate multiple solutions to a problem—alongside strategies for incorporating creativity-enhancing meditation sessions into daily routines.\n",
       "\n",
       "### Conclusion and Action Items\n",
       "\n",
       "1. Research and compile empirical studies that support each topic.\n",
       "2. Identify practical meditation techniques tailored for technical professionals.\n",
       "3. Develop a framework for integrating meditation into a busy work environment.\n",
       "4. Create a call to action, encouraging readers to experiment with meditation and observe its effects on their work.\n",
       "\n",
       "These article ideas not only emphasize the benefits of meditation but also cater to the analytical mindset of technical and scientific readers.</td></tr></table>"
      ],
      "text/plain": [
       "<IPython.core.display.Markdown object>"
      ]
     },
     "metadata": {},
     "output_type": "display_data"
    }
   ],
   "source": [
    "custom_system_prompt = \"\"\"\n",
    "you are a best-selling writer.\n",
    "\n",
    "In general:\n",
    "- Always explain your overall reasoning before providing the answer to user's question.\n",
    "- If user asked for advice, qlways provide a conclusion with a list of action items\n",
    "- Do not end the conversation with a final question after providng the list of action items\n",
    "\"\"\"\n",
    "\n",
    "user_prompt = \"\"\"\n",
    "Generate a list of 4 ideas for an article about benefits of meditation that people withh read and benefit from. The audience is technical and scientists.\n",
    "\"\"\"\n",
    "\n",
    "response = get_completion(custom_system_prompt, user_prompt)\n",
    "display_responses({\n",
    "        \"system_prompt\": custom_system_prompt,\n",
    "        \"user_prompt\": user_prompt,\n",
    "        \"response\": response,\n",
    "    })"
   ]
  },
  {
   "cell_type": "code",
   "execution_count": null,
   "id": "0ff2d414-3190-4e09-ad83-1ed51a4abe35",
   "metadata": {},
   "outputs": [],
   "source": []
  }
 ],
 "metadata": {
  "kernelspec": {
   "display_name": "Python 3 (ipykernel)",
   "language": "python",
   "name": "python3"
  },
  "language_info": {
   "codemirror_mode": {
    "name": "ipython",
    "version": 3
   },
   "file_extension": ".py",
   "mimetype": "text/x-python",
   "name": "python",
   "nbconvert_exporter": "python",
   "pygments_lexer": "ipython3",
   "version": "3.10.18"
  }
 },
 "nbformat": 4,
 "nbformat_minor": 5
}
