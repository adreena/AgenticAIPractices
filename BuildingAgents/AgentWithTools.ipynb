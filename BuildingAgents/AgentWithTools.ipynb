{
 "cells": [
  {
   "cell_type": "code",
   "execution_count": 1,
   "id": "cad59f74-5593-4976-ba59-3285708fea5f",
   "metadata": {},
   "outputs": [],
   "source": [
    "from typing import List, Any\n",
    "from dotenv import load_dotenv\n",
    "import json"
   ]
  },
  {
   "cell_type": "code",
   "execution_count": 2,
   "id": "546ade2d-f80e-43e0-be8f-e21092f18dc7",
   "metadata": {},
   "outputs": [],
   "source": [
    "from lib.messages import UserMessage, SystemMessage, ToolMessage\n",
    "from lib.tooling import tool\n",
    "from lib.llm import LLM"
   ]
  },
  {
   "cell_type": "code",
   "execution_count": 3,
   "id": "074c2b35-e792-43db-9d24-18caa3f7172c",
   "metadata": {},
   "outputs": [],
   "source": [
    "class Agent:\n",
    "    def __init__(self, \n",
    "                 role:str = \"Personal Assistant\", \n",
    "                 instructions:str = \"Help user with any question\",\n",
    "                 model:str = \"gpt-4o-mini\",\n",
    "                 temperature: float = 0,\n",
    "                 tools: List[Any] = None):\n",
    "        self.model = model\n",
    "        self.role = role\n",
    "        self.instructions = instructions\n",
    "        self.tools = tools\n",
    "\n",
    "        load_dotenv() # load enviornment variables\n",
    "        self.llm = LLM(model=model, temperature=temperature, tools=tools, api_key=\"voc-739452566168865424292768abb5376f0dd6.20650778\")\n",
    "\n",
    "    def invoke(self, user_message: str) -> str:\n",
    "        messages = [\n",
    "            SystemMessage(\n",
    "                content=(\n",
    "                    f\"You're an AI Agent and your role is {self.role}.\"\n",
    "                    f\"Your instructions: {self.instructions}\"\n",
    "                )\n",
    "            )\n",
    "        ]\n",
    "        messages.append(UserMessage(\n",
    "            content=user_message\n",
    "        ))\n",
    "\n",
    "        ai_message = self.llm.invoke(messages)\n",
    "        messages.append(ai_message)\n",
    "\n",
    "        while ai_message.tool_calls:\n",
    "            # iterate through all the calls and collect the call responses\n",
    "            for call in ai_message.tool_calls:\n",
    "                func_name = call.function.name\n",
    "                func_args = json.loads(call.function.arguments)\n",
    "                tool_call_id = call.id\n",
    "\n",
    "                tool = next((t for t in self.tools if t.name == func_name), None)\n",
    "                if tool:\n",
    "                    result = tool(**func_args)\n",
    "                    messages.append(\n",
    "                        ToolMessage(\n",
    "                            content = json.dumps(result),\n",
    "                            tool_call_id = tool_call_id,\n",
    "                            name=func_name\n",
    "                        )\n",
    "                    )\n",
    "            ai_message = self.llm.invoke(messages)\n",
    "            messages.append(ai_message)\n",
    "        for m in messages:\n",
    "            print(m)\n",
    "        return ai_message.content\n",
    "            "
   ]
  },
  {
   "cell_type": "code",
   "execution_count": 4,
   "id": "dfab8119-0985-47aa-82b9-c3a43565ec00",
   "metadata": {},
   "outputs": [
    {
     "name": "stdout",
     "output_type": "stream",
     "text": [
      "content=\"You're an AI Agent and your role is Coding Assistant.Your instructions: Help user with any question\" role='system'\n",
      "content='What is Typescript? be concise' role='user'\n",
      "content='TypeScript is a superset of JavaScript that adds static typing to the language. It allows developers to catch errors at compile time, enhances code readability, and improves tooling support. TypeScript code is transpiled to standard JavaScript, making it compatible with any environment that supports JavaScript.' role='assistant' tool_calls=None\n",
      "TypeScript is a superset of JavaScript that adds static typing to the language. It allows developers to catch errors at compile time, enhances code readability, and improves tooling support. TypeScript code is transpiled to standard JavaScript, making it compatible with any environment that supports JavaScript.\n"
     ]
    }
   ],
   "source": [
    "agent = Agent(role=\"Coding Assistant\")\n",
    "response = agent.invoke(\"What is Typescript? be concise\")\n",
    "print(response)"
   ]
  },
  {
   "cell_type": "markdown",
   "id": "d246ff7d-d70e-4b8f-a1b6-d8740c374861",
   "metadata": {},
   "source": [
    "## 1. Basic tool "
   ]
  },
  {
   "cell_type": "code",
   "execution_count": 5,
   "id": "8953c9b3-dd04-44bb-a8e6-0560dfa6a798",
   "metadata": {},
   "outputs": [],
   "source": [
    "@tool\n",
    "def calculate(expression:str)-> float:\n",
    "    return eval(expression)\n",
    "    "
   ]
  },
  {
   "cell_type": "code",
   "execution_count": 6,
   "id": "836d1ae9-c045-48da-a883-490a99378da5",
   "metadata": {},
   "outputs": [],
   "source": [
    "math_agent = Agent(\n",
    "    role=\"Math Assistant\",\n",
    "    tools=[calculate]\n",
    ")"
   ]
  },
  {
   "cell_type": "code",
   "execution_count": 7,
   "id": "43b42549-91c5-43b8-ab74-a8ab78c901e9",
   "metadata": {},
   "outputs": [
    {
     "name": "stdout",
     "output_type": "stream",
     "text": [
      "content=\"You're an AI Agent and your role is Math Assistant.Your instructions: Help user with any question\" role='system'\n",
      "content='what is 25*25?' role='user'\n",
      "content=None role='assistant' tool_calls=[ChatCompletionMessageToolCall(id='call_3rKRyHBC0y2itANy76YVm9iX', function=Function(arguments='{\"expression\":\"25*25\"}', name='calculate'), type='function')]\n",
      "content='625' role='tool' tool_call_id='call_3rKRyHBC0y2itANy76YVm9iX' name='calculate'\n",
      "content='The result of \\\\( 25 \\\\times 25 \\\\) is 625.' role='assistant' tool_calls=None\n",
      "The result of \\( 25 \\times 25 \\) is 625.\n"
     ]
    }
   ],
   "source": [
    "response = math_agent.invoke(\"what is 25*25?\")\n",
    "print(response)"
   ]
  },
  {
   "cell_type": "code",
   "execution_count": 8,
   "id": "c00b95a0-ecda-433a-8d3f-2cb8534a578c",
   "metadata": {},
   "outputs": [
    {
     "name": "stdout",
     "output_type": "stream",
     "text": [
      "content=\"You're an AI Agent and your role is Math Assistant.Your instructions: Help user with any question\" role='system'\n",
      "content='what is 25 multiply by 25?' role='user'\n",
      "content=None role='assistant' tool_calls=[ChatCompletionMessageToolCall(id='call_ONnGgPhaPCVxI4XhDRymPKsb', function=Function(arguments='{\"expression\":\"25 * 25\"}', name='calculate'), type='function')]\n",
      "content='625' role='tool' tool_call_id='call_ONnGgPhaPCVxI4XhDRymPKsb' name='calculate'\n",
      "content='25 multiplied by 25 is 625.' role='assistant' tool_calls=None\n"
     ]
    }
   ],
   "source": [
    "response = math_agent.invoke(\"what is 25 multiply by 25?\")"
   ]
  },
  {
   "cell_type": "markdown",
   "id": "b0685874-503e-4964-8765-4734c69b6e4e",
   "metadata": {},
   "source": [
    "## 2. Tool with mock data"
   ]
  },
  {
   "cell_type": "code",
   "execution_count": 16,
   "id": "9130572f-f83c-453b-9c76-01878d02f13c",
   "metadata": {},
   "outputs": [],
   "source": [
    "@tool\n",
    "def get_games(num_games: int=1, top:bool=True):\n",
    "    data = [\n",
    "        {\"Game\": \"The Legend of Zelda: Breath of the Wild\", \"Platform\": \"Switch\", \"Score\": 98},\n",
    "        {\"Game\": \"Super Mario Odyssey\", \"Platform\": \"Switch\", \"Score\": 97},\n",
    "        {\"Game\": \"Metroid Prime\", \"Platform\": \"GameCube\", \"Score\": 97},\n",
    "        {\"Game\": \"Super Smash Bros. Brawl\", \"Platform\": \"Wii\", \"Score\": 93},\n",
    "        {\"Game\": \"Mario Kart 8 Deluxe\", \"Platform\": \"Switch\", \"Score\": 92},\n",
    "        {\"Game\": \"Fire Emblem: Awakening\", \"Platform\": \"3DS\", \"Score\": 92},\n",
    "        {\"Game\": \"Donkey Kong Country Returns\", \"Platform\": \"Wii\", \"Score\": 87},\n",
    "        {\"Game\": \"Luigi's Mansion 3\", \"Platform\": \"Switch\", \"Score\": 86},\n",
    "        {\"Game\": \"Pikmin 3\", \"Platform\": \"Wii U\", \"Score\": 85},\n",
    "        {\"Game\": \"Animal Crossing: New Leaf\", \"Platform\": \"3DS\", \"Score\": 88}\n",
    "    ]\n",
    "    sorted_games = sorted(data, key=lambda x: x['Score'], reverse=top)\n",
    "\n",
    "    return sorted_games[:num_games]"
   ]
  },
  {
   "cell_type": "code",
   "execution_count": 17,
   "id": "742dc3b2-1f43-4a73-b341-a2753512260d",
   "metadata": {},
   "outputs": [],
   "source": [
    "data_analyst_agent = Agent(\n",
    "    role=\"Game Data Analyst\",\n",
    "    instructions= \"You analyze data about game dataset and answer user questions about the game\",\n",
    "    tools = [get_games]\n",
    ")"
   ]
  },
  {
   "cell_type": "code",
   "execution_count": 18,
   "id": "15442fba-40b6-45ce-81a4-bff06a8ca396",
   "metadata": {},
   "outputs": [
    {
     "name": "stdout",
     "output_type": "stream",
     "text": [
      "content=\"You're an AI Agent and your role is Game Data Analyst.Your instructions: You analyze data about game dataset and answer user questions about the game\" role='system'\n",
      "content='what was the best game in the dataset?' role='user'\n",
      "content=None role='assistant' tool_calls=[ChatCompletionMessageToolCall(id='call_dz3Db3NjSw4798pwIwz9gvKw', function=Function(arguments='{\"top\":true}', name='get_games'), type='function')]\n",
      "content='[{\"Game\": \"The Legend of Zelda: Breath of the Wild\", \"Platform\": \"Switch\", \"Score\": 98}]' role='tool' tool_call_id='call_dz3Db3NjSw4798pwIwz9gvKw' name='get_games'\n",
      "content='The best game in the dataset is \"The Legend of Zelda: Breath of the Wild\" for the Switch, with a score of 98.' role='assistant' tool_calls=None\n",
      "The best game in the dataset is \"The Legend of Zelda: Breath of the Wild\" for the Switch, with a score of 98.\n"
     ]
    }
   ],
   "source": [
    "response = data_analyst_agent.invoke(\"what was the best game in the dataset?\")\n",
    "print(response)"
   ]
  },
  {
   "cell_type": "code",
   "execution_count": null,
   "id": "e0d2084b-1553-45fa-a513-b0e23609bcd4",
   "metadata": {},
   "outputs": [],
   "source": []
  }
 ],
 "metadata": {
  "kernelspec": {
   "display_name": "Python 3 (ipykernel)",
   "language": "python",
   "name": "python3"
  },
  "language_info": {
   "codemirror_mode": {
    "name": "ipython",
    "version": 3
   },
   "file_extension": ".py",
   "mimetype": "text/x-python",
   "name": "python",
   "nbconvert_exporter": "python",
   "pygments_lexer": "ipython3",
   "version": "3.10.18"
  }
 },
 "nbformat": 4,
 "nbformat_minor": 5
}
